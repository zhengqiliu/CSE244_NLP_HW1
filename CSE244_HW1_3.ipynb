{
 "cells": [
  {
   "cell_type": "code",
   "execution_count": 1,
   "metadata": {},
   "outputs": [],
   "source": [
    "import pandas as pd\n",
    "import collections\n",
    "import string\n",
    "from nltk.corpus import stopwords\n",
    "import torch\n"
   ]
  },
  {
   "cell_type": "code",
   "execution_count": 2,
   "metadata": {},
   "outputs": [
    {
     "name": "stdout",
     "output_type": "stream",
     "text": [
      "2943 350 42 3\n"
     ]
    }
   ],
   "source": [
    "train_data = pd.read_csv('hw1_train.csv')\n",
    "vocabulary = collections.defaultdict(int)\n",
    "for sen in train_data[\"UTTERANCE\"]:\n",
    "    words = sen.split()\n",
    "    for word in words:\n",
    "        vocabulary[word] += 1\n",
    "vocabulary = {key : value for key,value in vocabulary.items() if not key.isdigit() and value > 0 and key not in string.punctuation}\n",
    "\n",
    "word_to_index = {}\n",
    "i = 0\n",
    "for k in vocabulary.keys():\n",
    "    word_to_index[k] = i\n",
    "    i += 1\n",
    "\n",
    "labels = train_data[\"CORE RELATIONS\"]\n",
    "splited_label_to_index = {}\n",
    "i = 0\n",
    "for label in labels:\n",
    "    splited_label = label.split(\" \")\n",
    "    for sl in splited_label:\n",
    "        if sl not in splited_label_to_index:\n",
    "            splited_label_to_index[sl] = i\n",
    "            i += 1\n",
    "\n",
    "\n",
    "one_label = two_label = three_label = four_label = 0\n",
    "for label in labels:\n",
    "    if len(label.split(\" \")) == 1:\n",
    "        one_label += 1\n",
    "    elif len(label.split(\" \")) == 2:\n",
    "        two_label += 1\n",
    "    elif len(label.split(\" \")) == 3:\n",
    "        three_label += 1\n",
    "    else:\n",
    "        four_label += 1\n",
    "\n",
    "print(one_label, two_label, three_label, four_label)\n",
    "\n",
    "vocabulary_size = len(vocabulary)\n",
    "label_set_size = len(splited_label_to_index)\n",
    "\n",
    "index_to_label = {}\n",
    "for k,v in splited_label_to_index.items():\n",
    "    index_to_label[v] = k            \n",
    "    \n",
    "def prepare(sen,dic):\n",
    "    res = [0]*len(dic)\n",
    "    for word in sen.split():\n",
    "        if word in dic:\n",
    "            res[dic[word]] += 1\n",
    "    res = torch.FloatTensor(res).view(1,-1).cuda()\n",
    "    \n",
    "    return res\n",
    "\n",
    "def label_vectorize(sen):\n",
    "    res = [0]*label_set_size\n",
    "    for label in sen.split(\" \"):\n",
    "        if label in splited_label_to_index:\n",
    "            res[splited_label_to_index[label]] = 1\n",
    "    res = torch.FloatTensor(res).view(1,-1).cuda()\n",
    "    \n",
    "    return res"
   ]
  },
  {
   "cell_type": "code",
   "execution_count": 3,
   "metadata": {},
   "outputs": [],
   "source": [
    "import torch.nn as nn\n",
    "import torch.nn.functional as F\n",
    "import torch.optim as optim\n",
    "class MLP(nn.Module):\n",
    "    def __init__(self, input_dim, hidden_dim1, hidden_dim2, tagset_size):\n",
    "        super(MLP, self).__init__()\n",
    "        \n",
    "        self.fc1 = nn.Linear(input_dim, hidden_dim1)\n",
    "        self.fc2 = nn.Linear(hidden_dim1, hidden_dim2)\n",
    "        self.fc3 = nn.Linear(hidden_dim2, tagset_size)\n",
    "        \n",
    "    def forward(self, sentence):\n",
    "        output = F.relu(self.fc1(sentence))\n",
    "        output = F.relu(self.fc2(output))\n",
    "        output = self.fc3(output)\n",
    "        \n",
    "        return torch.sigmoid(output)"
   ]
  },
  {
   "cell_type": "code",
   "execution_count": 4,
   "metadata": {
    "scrolled": false
   },
   "outputs": [
    {
     "name": "stdout",
     "output_type": "stream",
     "text": [
      "epoch= 0 loss= tensor(0.0636, device='cuda:0', grad_fn=<DivBackward0>)\n",
      "epoch= 1 loss= tensor(0.0304, device='cuda:0', grad_fn=<DivBackward0>)\n",
      "epoch= 2 loss= tensor(0.0161, device='cuda:0', grad_fn=<DivBackward0>)\n",
      "epoch= 3 loss= tensor(0.0106, device='cuda:0', grad_fn=<DivBackward0>)\n",
      "epoch= 4 loss= tensor(0.0074, device='cuda:0', grad_fn=<DivBackward0>)\n",
      "epoch= 5 loss= tensor(0.0063, device='cuda:0', grad_fn=<DivBackward0>)\n",
      "epoch= 6 loss= tensor(0.0042, device='cuda:0', grad_fn=<DivBackward0>)\n",
      "epoch= 7 loss= tensor(0.0034, device='cuda:0', grad_fn=<DivBackward0>)\n",
      "epoch= 8 loss= tensor(0.0031, device='cuda:0', grad_fn=<DivBackward0>)\n",
      "epoch= 9 loss= tensor(0.0026, device='cuda:0', grad_fn=<DivBackward0>)\n",
      "epoch= 10 loss= tensor(0.0024, device='cuda:0', grad_fn=<DivBackward0>)\n",
      "epoch= 11 loss= tensor(0.0023, device='cuda:0', grad_fn=<DivBackward0>)\n",
      "epoch= 12 loss= tensor(0.0022, device='cuda:0', grad_fn=<DivBackward0>)\n",
      "epoch= 13 loss= tensor(0.0018, device='cuda:0', grad_fn=<DivBackward0>)\n",
      "epoch= 14 loss= tensor(0.0015, device='cuda:0', grad_fn=<DivBackward0>)\n",
      "epoch= 15 loss= tensor(0.0016, device='cuda:0', grad_fn=<DivBackward0>)\n",
      "epoch= 16 loss= tensor(0.0014, device='cuda:0', grad_fn=<DivBackward0>)\n",
      "epoch= 17 loss= tensor(0.0011, device='cuda:0', grad_fn=<DivBackward0>)\n",
      "epoch= 18 loss= tensor(0.0008, device='cuda:0', grad_fn=<DivBackward0>)\n",
      "epoch= 19 loss= tensor(0.0012, device='cuda:0', grad_fn=<DivBackward0>)\n"
     ]
    }
   ],
   "source": [
    "import torch\n",
    "\n",
    "model = MLP(vocabulary_size, vocabulary_size*2, (vocabulary_size + label_set_size) // 2, label_set_size)\n",
    "model.to(torch.device(\"cuda:0\"))\n",
    "loss_function = nn.BCELoss()\n",
    "optimizer = optim.Adam(model.parameters())\n",
    "\n",
    "for epoch in range(20):\n",
    "    total_loss = 0\n",
    "    sentences = train_data[\"UTTERANCE\"]\n",
    "    label = train_data[\"CORE RELATIONS\"]\n",
    "    for i in range(len(train_data)):\n",
    "        model.zero_grad()\n",
    "        label_vec = label_vectorize(label[i]) \n",
    "        input_sen = prepare(sentences[i], word_to_index)\n",
    "        if len(input_sen) == 0:\n",
    "            print(sentences[i])\n",
    "            continue\n",
    "        prob = model(input_sen)\n",
    "        loss = loss_function(prob, label_vec)\n",
    "        total_loss += loss\n",
    "        loss.backward()\n",
    "        optimizer.step()\n",
    "    \n",
    "    print(\"epoch=\", epoch, \"loss=\", total_loss/len(sentences))"
   ]
  },
  {
   "cell_type": "code",
   "execution_count": 7,
   "metadata": {},
   "outputs": [
    {
     "name": "stdout",
     "output_type": "stream",
     "text": [
      "[['movie.media', 'movie.directed_by'], ['movie.starring.actor'], ['movie.starring.actor'], ['movie.starring.actor'], ['movie.starring.actor'], ['movie.starring.actor'], ['movie.starring.actor'], ['movie.starring.actor'], ['movie.starring.actor'], ['movie.starring.actor'], ['NO_REL'], ['movie.starring.character', 'movie.starring.actor'], ['movie.starring.actor', 'movie.starring.character'], ['movie.starring.actor'], ['movie.starring.actor'], ['movie.starring.actor'], ['movie.starring.actor'], ['movie.starring.actor'], ['movie.starring.actor'], ['NO_REL'], ['movie.starring.actor'], ['movie.starring.actor'], ['movie.starring.actor'], ['movie.starring.actor'], ['movie.starring.actor'], ['movie.directed_by', 'movie.synopsis'], ['NO_REL'], ['movie.starring.actor'], ['movie.starring.actor'], ['NO_REL'], ['movie.starring.actor'], ['movie.starring.actor'], ['movie.starring.actor'], ['movie.starring.actor'], ['movie.starring.actor'], ['movie.estimated_budget'], ['movie.estimated_budget'], ['movie.estimated_budget'], ['movie.estimated_budget'], ['movie.estimated_budget'], ['movie.estimated_budget'], ['movie.estimated_budget'], ['movie.estimated_budget'], ['movie.estimated_budget'], ['movie.estimated_budget'], ['movie.gross_revenue'], ['movie.estimated_budget'], ['movie.estimated_budget'], ['movie.estimated_budget'], ['movie.estimated_budget'], ['movie.estimated_budget'], ['movie.estimated_budget'], ['movie.estimated_budget'], ['movie.estimated_budget'], ['movie.estimated_budget'], ['movie.estimated_budget'], ['movie.starring.actor'], ['NO_REL'], ['movie.rating'], ['movie.award'], ['movie.starring.actor'], ['movie.directed_by'], ['movie.directed_by'], ['movie.production_companies'], ['movie.country'], ['movie.country'], ['movie.country'], ['movie.country'], ['movie.country'], ['movie.country'], ['movie.country'], ['movie.country'], ['movie.initial_release_date'], ['movie.initial_release_date'], ['movie.initial_release_date'], ['movie.initial_release_date'], ['movie.initial_release_date'], ['movie.initial_release_date'], ['movie.initial_release_date'], ['movie.initial_release_date'], ['movie.initial_release_date'], ['movie.initial_release_date'], ['movie.initial_release_date'], ['movie.initial_release_date'], ['movie.initial_release_date'], ['movie.initial_release_date'], ['movie.initial_release_date'], ['movie.initial_release_date'], ['movie.initial_release_date'], ['movie.initial_release_date'], ['movie.initial_release_date'], ['movie.initial_release_date'], ['movie.initial_release_date'], ['movie.initial_release_date'], ['movie.initial_release_date'], ['movie.initial_release_date'], ['movie.initial_release_date'], ['movie.initial_release_date'], ['movie.initial_release_date'], ['movie.initial_release_date'], ['movie.initial_release_date'], ['movie.initial_release_date'], ['movie.initial_release_date'], ['movie.initial_release_date'], ['movie.initial_release_date'], ['movie.initial_release_date'], ['movie.initial_release_date'], ['movie.initial_release_date'], ['movie.initial_release_date'], ['other'], ['movie.initial_release_date'], ['movie.initial_release_date'], ['movie.initial_release_date'], ['movie.directed_by'], ['movie.directed_by'], ['movie.directed_by'], ['movie.directed_by'], ['movie.directed_by'], ['movie.directed_by'], ['movie.directed_by'], ['movie.directed_by'], ['movie.directed_by'], ['movie.directed_by'], ['movie.directed_by'], ['movie.directed_by'], ['movie.directed_by'], ['movie.directed_by'], ['movie.directed_by'], ['movie.directed_by'], ['movie.directed_by'], ['movie.directed_by'], ['movie.directed_by'], ['movie.directed_by'], ['movie.directed_by'], ['movie.directed_by'], ['movie.directed_by'], ['movie.directed_by'], ['movie.directed_by'], ['movie.directed_by'], ['movie.directed_by'], ['movie.starring.character'], ['NO_REL'], ['movie.directed_by'], ['movie.directed_by'], ['movie.directed_by'], ['movie.directed_by'], ['movie.directed_by'], ['movie.directed_by'], ['movie.directed_by'], ['movie.directed_by'], ['movie.directed_by'], ['NO_REL'], ['movie.directed_by'], ['movie.directed_by'], ['movie.directed_by'], ['movie.directed_by'], ['movie.directed_by'], ['movie.directed_by'], ['movie.genre'], ['movie.genre'], ['movie.genre'], ['movie.genre'], ['movie.genre'], ['movie.genre'], ['movie.genre'], ['movie.genre'], ['movie.genre'], ['movie.genre'], ['movie.genre'], ['movie.genre'], ['movie.genre'], ['movie.genre'], ['movie.genre'], ['movie.genre'], ['movie.genre'], ['movie.genre'], ['movie.genre'], ['movie.language'], ['movie.language'], ['movie.language'], ['movie.language'], ['movie.language'], ['movie.language'], ['movie.language'], ['movie.language'], ['movie.language'], ['movie.subjects'], ['movie.language', 'movie.country'], ['movie.produced_by'], ['movie.produced_by'], ['NO_REL'], ['NO_REL'], ['NO_REL'], ['movie_other'], ['movie.language'], ['movie.starring.actor'], ['movie.starring.actor'], ['movie.subjects'], ['movie.subjects'], ['movie.starring.actor'], ['movie.starring.actor'], ['movie.starring.actor'], ['movie.language', 'movie.country'], ['movie.starring.actor'], ['other'], ['movie_other'], ['NO_REL'], ['movie_other'], ['movie.gross_revenue', 'movie_other'], ['movie.language'], ['NO_REL'], ['NO_REL'], ['NO_REL'], ['NO_REL'], ['NO_REL'], ['movie.directed_by'], ['movie.directed_by'], ['NO_REL'], ['movie.starring.actor'], ['movie.directed_by'], ['movie.produced_by'], ['movie.starring.actor'], ['movie.starring.actor'], ['movie.starring.actor'], ['movie.directed_by'], ['movie.directed_by'], ['movie.initial_release_date'], ['movie.directed_by'], ['movie.directed_by'], ['movie.rating'], ['NO_REL'], ['movie.language'], ['movie.country'], ['movie.country'], ['movie.language'], ['movie.language'], ['movie.genre'], ['movie.genre'], ['movie.genre'], ['movie.genre'], ['movie.genre'], ['movie.genre'], ['movie.starring.actor'], ['movie.starring.actor'], ['movie.starring.actor'], ['movie.country'], ['movie.country'], ['movie.country'], ['movie.country'], ['movie.language', 'movie.country'], ['movie.country', 'movie.language'], ['movie.country'], ['movie.country'], ['movie.country'], ['movie.initial_release_date'], ['movie.language', 'movie.country'], ['movie.language', 'movie.country'], ['NO_REL'], ['movie_other'], ['movie.genre'], ['movie.language'], ['movie_other', 'movie.locations'], ['movie.directed_by'], ['movie.country'], ['movie.country'], ['NO_REL'], ['movie.directed_by'], ['movie.language'], ['movie.country'], ['movie.genre'], ['movie.rating', 'movie.genre'], ['movie.language'], ['movie.starring.actor'], ['NO_REL'], ['NO_REL'], ['movie.starring.actor'], ['movie.starring.actor'], ['movie.initial_release_date', 'movie.starring.actor'], ['movie.produced_by'], ['movie.initial_release_date'], ['movie.starring.actor'], ['NO_REL'], ['NO_REL'], ['NO_REL'], ['NO_REL'], ['movie.country'], ['movie.country'], ['movie.language', 'movie.country'], ['movie.language', 'movie.country'], ['movie.language', 'movie.country'], ['movie.country', 'movie.language'], ['movie.language', 'movie.country'], ['movie.language'], ['movie.language'], ['movie.production_companies'], ['movie.production_companies'], ['movie.starring.actor'], ['movie.starring.actor'], ['movie.subjects'], ['movie.subjects'], ['movie.starring.actor'], ['movie.subjects'], ['movie.produced_by', 'movie.directed_by'], ['movie.production_companies'], ['movie.production_companies'], ['movie.initial_release_date', 'movie.production_companies'], ['movie.country', 'movie.initial_release_date'], ['movie.produced_by'], ['movie.genre'], ['movie.directed_by'], ['movie.country'], ['movie.country'], ['movie.country'], ['movie.country'], ['movie.language', 'movie.country'], ['movie.language', 'movie.country'], ['movie.language', 'movie.country'], ['movie.rating'], ['movie.rating'], ['movie.rating'], ['movie.rating'], ['movie.rating'], ['movie.rating'], ['movie.rating'], ['movie.rating'], ['movie.rating'], ['movie.rating'], ['movie.rating'], ['movie.rating'], ['movie.rating'], ['movie.rating'], ['movie.rating'], ['movie.genre', 'movie.directed_by'], ['movie.produced_by'], ['movie.directed_by', 'movie.initial_release_date'], ['movie.production_companies'], ['movie.country'], ['movie.country'], ['movie.country'], ['movie_other'], ['movie.produced_by'], ['movie.directed_by'], ['movie.directed_by'], ['movie.directed_by'], ['movie.directed_by'], ['movie.directed_by'], ['movie.directed_by'], ['movie.production_companies'], ['movie.produced_by'], ['movie.produced_by'], ['movie.genre', 'movie.country', 'movie.language'], ['movie.directed_by'], ['movie.directed_by'], ['movie.directed_by'], ['movie.directed_by'], ['movie.directed_by'], ['movie.directed_by'], ['movie.directed_by'], ['movie.directed_by'], ['movie.directed_by'], ['movie.directed_by'], ['movie.directed_by'], ['NO_REL'], ['movie.media'], ['movie.starring.actor'], ['movie.starring.actor'], ['movie.country'], ['movie.country'], ['movie.country'], ['movie.language', 'movie.country'], ['movie.language', 'movie.country'], ['movie.production_companies'], ['movie.directed_by'], ['movie.production_companies'], ['movie.production_companies'], ['movie.initial_release_date', 'movie.starring.actor'], ['movie.directed_by'], ['movie.starring.actor'], ['movie.starring.actor'], ['movie.starring.actor'], ['movie.directed_by'], ['movie.produced_by'], ['movie.produced_by'], ['movie.produced_by'], ['movie.directed_by'], ['movie.produced_by'], ['movie.directed_by'], ['movie.directed_by'], ['movie.directed_by'], ['movie.produced_by'], ['movie.produced_by'], ['movie.production_companies'], ['movie.production_companies'], ['movie.production_companies'], ['movie.production_companies', 'movie.initial_release_date'], ['NO_REL'], ['NO_REL'], ['NO_REL'], ['movie_other'], ['NO_REL'], ['NO_REL'], ['NO_REL'], ['NO_REL'], ['NO_REL'], ['movie.starring.actor'], ['movie.starring.actor'], ['movie.starring.actor'], ['movie.production_companies'], ['movie.production_companies'], ['movie.production_companies'], ['movie.directed_by'], ['movie.directed_by'], ['movie.directed_by'], ['movie.country'], ['movie.initial_release_date'], ['movie_other', 'movie.subjects'], ['movie.language', 'movie.country'], ['movie.starring.actor'], ['movie.starring.actor'], ['movie.starring.actor'], ['movie.country'], ['movie.starring.actor'], ['movie.directed_by'], ['movie.directed_by', 'movie.star_rating'], ['movie_other'], ['movie.directed_by'], ['movie.directed_by'], ['movie.country'], ['movie.starring.actor'], ['movie.starring.actor'], ['movie.starring.actor'], ['movie_other'], ['movie.rating'], ['movie.rating', 'movie.initial_release_date'], ['movie.rating'], ['movie.rating'], ['movie.rating'], ['movie.rating'], ['movie.rating'], ['movie.rating'], ['movie.rating'], ['movie.rating', 'movie.initial_release_date'], ['movie.country', 'movie.locations'], ['movie.language'], ['movie.country'], ['movie.subjects'], ['movie.subjects'], ['movie.subjects'], ['movie.subjects'], ['movie.directed_by'], ['movie.directed_by'], ['NO_REL'], ['movie.directed_by'], ['movie.language', 'movie.country'], ['movie.language', 'movie.country'], ['movie.genre'], ['movie.genre'], ['movie.star_rating'], ['movie.starring.actor', 'movie.star_rating'], ['movie.directed_by'], ['movie.produced_by'], ['movie.produced_by'], ['movie.produced_by'], ['movie.produced_by'], ['movie.produced_by'], ['movie.produced_by'], ['movie.starring.actor'], ['movie.directed_by'], ['movie.country'], ['NO_REL'], ['NO_REL'], ['NO_REL'], ['NO_REL'], ['NO_REL'], ['NO_REL'], ['movie_other'], ['NO_REL'], ['NO_REL'], ['NO_REL'], ['NO_REL'], ['NO_REL'], ['NO_REL'], ['NO_REL'], ['movie.language'], ['movie_other'], ['movie.starring.actor'], ['movie_other', 'movie.locations'], ['movie.directed_by'], ['movie.produced_by'], ['movie.subjects'], ['movie.starring.actor'], ['movie_other'], ['movie_other'], ['movie.production_companies', 'movie.initial_release_date'], ['movie.subjects', 'movie.initial_release_date'], ['movie.country', 'movie.initial_release_date'], ['NO_REL'], ['movie_other'], ['movie.subjects'], ['movie_other'], ['NO_REL'], ['movie.language'], ['movie.language', 'movie.country'], ['movie.directed_by'], ['movie.starring.actor', 'movie_other'], ['movie.starring.actor'], ['movie.starring.actor'], ['movie.starring.actor'], ['movie.initial_release_date'], ['movie.genre', 'movie_other'], ['movie.directed_by'], ['NO_REL'], ['NO_REL'], ['movie_other'], ['movie.subjects'], ['movie.rating'], ['movie.rating', 'movie.initial_release_date'], ['movie.rating'], ['movie.initial_release_date', 'movie.rating'], ['movie.rating', 'movie.initial_release_date'], ['movie.initial_release_date', 'movie.rating'], ['movie.rating', 'movie.initial_release_date'], ['movie.initial_release_date', 'movie.rating'], ['movie.directed_by'], ['movie.directed_by'], ['movie.locations'], ['movie.starring.actor', 'movie.initial_release_date'], ['movie.rating', 'movie.initial_release_date'], ['movie.rating', 'movie.initial_release_date'], ['movie.produced_by'], ['movie.initial_release_date'], ['movie.directed_by'], ['movie.initial_release_date'], ['movie.starring.actor'], ['movie.initial_release_date'], ['NO_REL'], ['movie_other'], ['NO_REL'], ['NO_REL'], ['NO_REL'], ['movie.directed_by'], ['NO_REL'], ['NO_REL'], ['NO_REL'], ['NO_REL'], ['NO_REL'], ['NO_REL'], ['NO_REL'], ['NO_REL'], ['NO_REL'], ['NO_REL'], ['NO_REL'], ['other'], ['NO_REL'], ['NO_REL'], ['NO_REL'], ['NO_REL'], ['NO_REL'], ['NO_REL'], ['NO_REL'], ['NO_REL'], ['movie.produced_by'], ['movie.produced_by'], ['movie.produced_by'], ['movie.production_companies'], ['movie.production_companies'], ['movie_other'], ['movie.produced_by'], ['movie.produced_by'], ['movie.production_companies'], ['movie.produced_by'], ['movie.produced_by'], ['movie.produced_by'], ['movie.produced_by'], ['movie.produced_by'], ['movie.produced_by'], ['movie.produced_by'], ['movie.produced_by'], ['movie.produced_by'], ['other'], ['movie.produced_by'], ['movie.produced_by'], ['movie.produced_by'], ['movie.produced_by'], ['movie.produced_by'], ['movie.produced_by'], ['movie.produced_by'], ['movie.produced_by'], ['movie.produced_by'], ['movie.production_companies'], ['movie.gross_revenue'], ['movie.produced_by'], ['movie.produced_by'], ['movie.production_companies'], ['movie.production_companies'], ['movie.produced_by'], ['movie.produced_by'], ['movie.produced_by'], ['movie.produced_by'], ['movie.produced_by'], ['movie.rating'], ['movie.gross_revenue'], ['movie.gross_revenue'], ['movie.gross_revenue'], ['movie.gross_revenue'], ['movie.gross_revenue'], ['movie.gross_revenue'], ['movie.gross_revenue'], ['movie.gross_revenue'], ['movie.gross_revenue'], ['movie.gross_revenue'], ['movie.subjects', 'movie.initial_release_date'], ['movie.starring.character', 'movie.starring.actor'], ['movie.starring.character', 'movie.starring.actor'], ['movie.starring.actor'], ['movie.initial_release_date'], ['movie.starring.actor'], ['movie.starring.actor'], ['movie.starring.character', 'movie.starring.actor'], ['movie.starring.actor'], ['movie.starring.actor', 'movie.starring.character'], ['movie.starring.character', 'movie.starring.actor'], ['person.nationality'], ['movie.starring.actor'], ['movie.starring.actor', 'movie.starring.character'], ['movie.starring.actor'], ['movie.starring.character', 'movie.starring.actor', 'movie.directed_by'], ['movie.starring.character', 'movie.starring.actor'], ['movie.starring.character', 'movie.starring.actor'], ['movie.starring.actor'], ['movie.starring.character', 'movie.starring.actor'], ['movie.starring.actor'], ['movie.starring.character', 'movie.starring.actor'], ['movie.starring.character', 'movie.starring.actor'], ['movie.estimated_budget'], ['movie.estimated_budget'], ['movie.estimated_budget'], ['movie.estimated_budget'], ['movie.estimated_budget'], ['movie.estimated_budget'], ['movie.estimated_budget'], ['movie.estimated_budget'], ['movie.estimated_budget'], ['movie.estimated_budget'], ['movie.estimated_budget'], ['movie.estimated_budget'], ['movie.estimated_budget'], ['movie.estimated_budget'], ['movie.estimated_budget'], ['movie.estimated_budget'], ['movie.estimated_budget'], ['other'], ['movie.country'], ['movie.country'], ['movie.country'], ['movie.country', 'movie.locations'], ['movie.country'], ['movie.country'], ['movie.country'], ['movie.initial_release_date'], ['movie.subjects'], ['movie.initial_release_date'], ['movie.initial_release_date'], ['movie.initial_release_date'], ['movie.initial_release_date'], ['movie.initial_release_date'], ['movie.initial_release_date'], ['movie.initial_release_date'], ['movie.initial_release_date'], ['movie.initial_release_date'], ['movie.initial_release_date'], ['movie.initial_release_date'], ['movie.initial_release_date'], ['movie.directed_by'], ['movie.directed_by'], ['movie.directed_by'], ['movie.directed_by'], ['movie.directed_by'], ['movie.language'], ['movie.language'], ['movie.language'], ['movie.language'], ['movie.language'], ['movie.rating', 'movie.genre'], ['movie.genre', 'movie.initial_release_date'], ['movie.subjects'], ['movie.country', 'movie.genre'], ['other'], ['movie.genre'], ['other'], ['movie.genre'], ['movie.subjects', 'movie.genre'], ['movie.directed_by'], ['movie.directed_by'], ['movie.directed_by', 'movie_other'], ['movie.initial_release_date'], ['movie.locations'], ['movie.initial_release_date'], ['movie.country', 'movie.initial_release_date'], ['movie.language'], ['movie.initial_release_date'], ['movie.subjects'], ['movie_other'], ['movie_other'], ['movie.directed_by'], ['movie.directed_by'], ['movie.directed_by'], ['movie.directed_by'], ['movie_other'], ['movie.directed_by'], ['movie.directed_by'], ['movie.directed_by'], ['movie.directed_by'], ['movie.directed_by'], ['movie.starring.actor'], ['movie.initial_release_date', 'movie.country'], ['movie.rating'], ['movie_other', 'movie.locations'], ['movie_other'], ['movie.initial_release_date'], ['movie.initial_release_date'], ['movie.initial_release_date'], ['movie.initial_release_date'], ['movie.subjects', 'movie.initial_release_date'], ['movie.language'], ['movie.language'], ['movie.language', 'movie.locations', 'movie.country'], ['NO_REL'], ['movie.language'], ['movie.language'], ['movie.language'], ['movie.language'], ['movie.language', 'movie.country'], ['movie.language'], ['movie.language'], ['movie.country'], ['movie.language'], ['movie.language', 'movie.country'], ['movie.language'], ['movie.language'], ['movie.language'], ['movie.language'], ['NO_REL'], ['movie.produced_by'], ['movie.directed_by'], ['movie.produced_by'], ['movie.production_companies'], ['movie.production_companies'], ['movie.initial_release_date'], ['movie.production_companies', 'movie.initial_release_date'], ['movie.rating'], ['movie.rating'], ['movie.initial_release_date', 'movie.locations'], ['movie.rating', 'movie.genre'], ['movie.rating'], ['movie.initial_release_date'], ['movie.production_companies'], ['movie.initial_release_date'], ['movie.starring.actor'], ['movie.starring.actor'], ['movie.starring.actor'], ['movie.starring.actor'], ['movie.starring.actor'], ['movie.starring.actor'], ['movie.starring.actor'], ['movie.starring.actor'], ['movie.initial_release_date', 'movie.starring.actor'], ['movie.starring.actor', 'movie.subjects'], ['movie.locations', 'movie.initial_release_date'], ['movie.starring.actor'], ['movie.subjects'], ['movie.subjects'], ['movie.subjects'], ['movie.subjects'], ['movie.subjects'], ['movie.subjects'], ['movie.subjects'], ['movie.subjects'], ['movie.subjects'], ['movie.subjects'], ['movie.subjects'], ['movie_other', 'other'], ['movie.subjects'], ['movie.subjects'], ['movie.subjects'], ['movie.award', 'movie.locations'], ['movie.subjects'], ['movie.subjects'], ['movie_other'], ['movie.subjects'], ['movie.subjects'], ['movie.subjects'], ['movie.subjects'], ['movie.subjects'], ['movie.subjects'], ['movie.subjects'], ['movie.subjects'], ['movie.language'], ['movie_other'], ['movie.language', 'movie.country'], ['movie.language'], ['other'], ['movie.directed_by'], ['NO_REL'], ['NO_REL'], ['NO_REL'], ['NO_REL'], ['NO_REL'], ['NO_REL'], ['NO_REL'], ['movie.initial_release_date'], ['other'], ['movie.initial_release_date'], ['NO_REL'], ['movie.produced_by'], ['movie.initial_release_date'], ['movie.country'], ['movie.country'], ['movie.initial_release_date', 'movie.language', 'movie.country'], ['movie.country', 'movie.language'], ['NO_REL'], ['NO_REL'], ['NO_REL'], ['NO_REL'], ['movie_other'], ['NO_REL'], ['movie.produced_by'], ['movie_other'], ['movie.produced_by'], ['movie.produced_by'], ['movie.produced_by'], ['movie.produced_by', 'NO_REL'], ['movie.gross_revenue'], ['movie.gross_revenue'], ['movie.gross_revenue'], ['movie.gross_revenue'], ['movie.gross_revenue'], ['movie.gross_revenue'], ['movie.gross_revenue'], ['movie.gross_revenue'], ['movie.gross_revenue'], ['movie.gross_revenue'], ['movie.gross_revenue'], ['movie.gross_revenue'], ['movie.gross_revenue'], ['movie.gross_revenue'], ['movie.gross_revenue'], ['movie.gross_revenue'], ['movie.gross_revenue'], ['movie.gross_revenue'], ['movie.estimated_budget'], ['movie.gross_revenue'], ['movie.gross_revenue'], ['movie.gross_revenue'], ['movie.gross_revenue'], ['movie.gross_revenue'], ['movie.gross_revenue'], ['movie_other'], ['movie_other'], ['other'], ['other', 'movie_other'], ['movie_other', 'movie.locations'], ['movie_other'], ['NO_REL'], ['movie.language'], ['movie.showing'], ['movie_other'], ['movie.genre'], ['movie_other'], ['movie_other'], ['movie_other'], ['movie.initial_release_date', 'movie.locations'], ['other'], ['NO_REL'], ['movie.star_rating', 'movie.award'], ['NO_REL'], ['movie.gross_revenue', 'movie_other'], ['other'], ['movie.initial_release_date', 'award.ceremony'], ['other'], ['other'], ['NO_REL'], ['other'], ['other'], ['movie.showing'], ['other'], ['other'], ['movie.showing'], ['movie_other'], ['movie_other'], ['movie_other'], ['movie.produced_by'], ['movie.language'], ['movie.starring.actor'], ['movie_other'], ['movie.estimated_budget'], ['movie_other'], ['other'], ['movie_other'], ['movie.locations', 'other', 'movie_other'], ['movie.rating'], ['movie_other'], ['NO_REL'], ['other'], ['other'], ['movie_other'], ['NO_REL'], ['movie_other'], ['other'], ['movie.review'], ['movie.genre'], ['movie_other'], ['movie_other'], ['other'], ['movie_other'], ['movie_other'], ['movie_other'], ['other'], ['movie_other'], ['other'], ['other'], ['movie.directed_by'], ['other'], ['movie.subjects'], ['movie_other'], ['movie_other'], ['other'], ['movie_other'], ['other'], ['movie_other'], ['movie_other'], ['movie_other'], ['other', 'movie_other'], ['movie_other'], ['other'], ['movie.initial_release_date'], ['movie.gross_revenue'], ['movie.initial_release_date'], ['other'], ['movie_other'], ['other'], ['movie.subjects', 'NO_REL'], ['other'], ['other'], ['other'], ['movie.language'], ['other'], ['other'], ['other'], ['movie.gross_revenue'], ['other'], ['other'], ['other'], ['movie.country'], ['movie.estimated_budget'], ['movie_other'], ['other'], ['movie.estimated_budget'], ['movie.country'], ['movie_other'], ['other'], ['movie.starring.actor'], ['movie.starring.actor'], ['movie.starring.actor', 'actor.gender'], ['actor.gender', 'movie.starring.actor'], ['movie.starring.actor'], ['movie.starring.actor'], ['movie_other'], ['movie.initial_release_date', 'person.date_of_birth'], ['movie.directed_by'], ['movie.locations'], ['movie.release', 'release.region', 'release.date'], ['movie.initial_release_date'], ['movie.star_rating'], ['NO_REL'], ['movie.star_rating', 'movie.directed_by'], ['movie.star_rating', 'movie.directed_by'], ['NO_REL'], ['movie.star_rating'], ['movie.directed_by', 'movie.star_rating'], ['movie.produced_by'], ['movie.directed_by'], ['NO_REL', 'movie.directed_by'], ['movie.produced_by'], ['movie.media', 'movie.directed_by'], ['movie.starring.actor', 'movie.star_rating'], ['movie.award', 'award.ceremony', 'movie.locations'], ['movie.starring.actor', 'movie.initial_release_date'], ['movie.starring.actor'], ['movie.review'], ['movie.review'], ['movie.directed_by'], ['movie.star_rating', 'movie.directed_by'], ['movie.star_rating', 'movie.rating'], ['movie.directed_by'], ['movie.directed_by'], ['movie.gross_revenue', 'gr.amount'], ['gr.amount', 'movie.gross_revenue'], ['movie.gross_revenue'], ['movie.locations', 'movie.initial_release_date', 'movie.country'], ['movie.production_companies', 'movie.initial_release_date'], ['movie.initial_release_date'], ['movie.initial_release_date'], ['movie.initial_release_date'], ['movie.initial_release_date'], ['movie.production_companies'], ['movie.production_companies', 'movie.initial_release_date'], ['award.ceremony', 'person.award', 'award.winning_work'], ['movie.locations', 'movie.country'], ['movie.locations', 'movie.country'], ['movie.locations'], ['release.region', 'movie.release'], ['movie.initial_release_date', 'release.region', 'movie.release'], ['release.region', 'movie.release'], ['movie.star_rating', 'movie.country'], ['movie.country'], ['movie.country'], ['movie.subjects'], ['movie.subjects'], ['movie.star_rating', 'movie.language'], ['movie.country'], ['movie.starring.actor', 'movie.star_rating'], ['movie.genre'], ['movie.language'], ['movie.language'], ['movie.language'], ['movie.locations'], ['movie.locations', 'movie_other'], ['movie.initial_release_date', 'movie.locations'], ['movie.subjects'], ['movie.initial_release_date'], ['movie.country'], ['actor.nationality', 'movie.starring.actor'], ['movie_other'], ['movie.directed_by'], ['movie.directed_by'], ['person.picture'], ['movie.directed_by'], ['movie.star_rating'], ['movie_other'], ['movie.rating'], ['movie_other'], ['movie_other'], ['movie.rating'], ['movie_other'], ['movie_other'], ['movie_other'], ['movie_other'], ['movie_other'], ['movie_other'], ['movie_other'], ['movie.genre'], ['movie_other'], ['movie.rating'], ['movie_other'], ['movie_other'], ['movie_other'], ['movie.gross_revenue'], ['movie.estimated_budget'], ['movie.gross_revenue', 'movie_other'], ['movie.gross_revenue'], ['movie.subjects'], ['movie.review'], ['movie.review'], ['movie.review'], ['movie.review', 'movie.rating'], ['movie.review'], ['movie.review'], ['movie.review'], ['movie.review'], ['movie.review'], ['movie.subjects'], ['movie_other'], ['movie.showing'], ['NO_REL'], ['NO_REL'], ['NO_REL'], ['movie.initial_release_date'], ['NO_REL'], ['movie.trailer'], ['movie.initial_release_date', 'movie.starring.actor'], ['movie.production_companies'], ['movie.initial_release_date', 'movie.starring.actor'], ['movie.country']]"
     ]
    },
    {
     "name": "stdout",
     "output_type": "stream",
     "text": [
      "\n",
      "1084\n",
      "(945, 129, 10, 0)\n"
     ]
    }
   ],
   "source": [
    "def dot(num, l):\n",
    "    for i in range(len(l)):\n",
    "        l[i] *= num\n",
    "    \n",
    "    return l\n",
    "\n",
    "def detcet(output):\n",
    "    one = two = three = four = 0\n",
    "    for label in output:\n",
    "        cnt = 1\n",
    "        label = str(label)\n",
    "        for ch in label:\n",
    "            if ch == \" \":\n",
    "                cnt += 1\n",
    "        if cnt == 1:\n",
    "            one += 1\n",
    "        elif cnt == 2:\n",
    "            two += 1\n",
    "        elif cnt == 3:\n",
    "            three += 1\n",
    "        else:\n",
    "            four += 1\n",
    "            \n",
    "    return one, two, three, four\n",
    "\n",
    "test_set = pd.read_csv('hw1_test.csv')\n",
    "sentences = test_set['UTTERANCE']\n",
    "output = []\n",
    "with torch.no_grad():\n",
    "    for i in range(len(sentences)):\n",
    "        sentence = prepare(sentences[i], word_to_index)\n",
    "        if len(sentence) == 0:\n",
    "            output.append(['NO_REL'])\n",
    "            continue\n",
    "        trained_labels = model(sentence)\n",
    "        trained_labels = list(trained_labels)[0]\n",
    "        #print(trained_labels)\n",
    "        res = []\n",
    "        temp = []\n",
    "        threshold = max(trained_labels)*0.8\n",
    "        for i in range(len(trained_labels)):\n",
    "            if trained_labels[i] >= threshold:\n",
    "                temp.append((trained_labels[i], i))\n",
    "        temp = sorted(temp, reverse=True)[:3]\n",
    "        for x,y in temp:\n",
    "            res.append(index_to_label[y])\n",
    "        output.append(res)\n",
    "print(output)\n",
    "print(len(output))\n",
    "print(detcet(output))\n"
   ]
  },
  {
   "cell_type": "code",
   "execution_count": 8,
   "metadata": {},
   "outputs": [],
   "source": [
    "import csv\n",
    "with open('Test.csv', 'w', newline='') as f:\n",
    "    writer = csv.writer(f, delimiter=' ')\n",
    "    for val in output:\n",
    "        writer.writerow(val)"
   ]
  },
  {
   "cell_type": "code",
   "execution_count": 11,
   "metadata": {},
   "outputs": [
    {
     "data": {
      "text/plain": [
       "[tensor([[-0.8138, -0.2756,  0.6990]]),\n",
       " tensor([[ 0.1624, -2.3374, -0.9050]]),\n",
       " tensor([[-0.9322,  0.8019,  1.3185]]),\n",
       " tensor([[1.0118, 0.6845, 0.3738]]),\n",
       " tensor([[-0.4365,  1.4080,  0.5860]])]"
      ]
     },
     "execution_count": 11,
     "metadata": {},
     "output_type": "execute_result"
    }
   ],
   "source": [
    "[torch.randn(1, 3) for _ in range(5)] "
   ]
  },
  {
   "cell_type": "code",
   "execution_count": 2,
   "metadata": {},
   "outputs": [],
   "source": [
    "import torch"
   ]
  },
  {
   "cell_type": "code",
   "execution_count": 5,
   "metadata": {},
   "outputs": [
    {
     "data": {
      "text/plain": [
       "tensor([0.7311, 0.9526, 0.8808, 0.9820, 0.0067, 0.2689, 0.0000])"
      ]
     },
     "execution_count": 5,
     "metadata": {},
     "output_type": "execute_result"
    }
   ],
   "source": []
  }
 ],
 "metadata": {
  "kernelspec": {
   "display_name": "Python 3",
   "language": "python",
   "name": "python3"
  },
  "language_info": {
   "codemirror_mode": {
    "name": "ipython",
    "version": 3
   },
   "file_extension": ".py",
   "mimetype": "text/x-python",
   "name": "python",
   "nbconvert_exporter": "python",
   "pygments_lexer": "ipython3",
   "version": "3.6.4"
  }
 },
 "nbformat": 4,
 "nbformat_minor": 2
}
